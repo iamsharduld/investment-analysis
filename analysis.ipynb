{
 "cells": [
  {
   "cell_type": "code",
   "execution_count": 423,
   "id": "13b06ae2",
   "metadata": {},
   "outputs": [
    {
     "name": "stdout",
     "output_type": "stream",
     "text": [
      "[*********************100%***********************]  20 of 20 completed\n"
     ]
    }
   ],
   "source": [
    "import yfinance as yf\n",
    "import numpy as np\n",
    "\n",
    "# These stocks are expected to move up\n",
    "# This step is completed using fundamental analysis\n",
    "\n",
    "stock_tickers = [\n",
    "    'AMZN',\n",
    "    'GOOGL',\n",
    "    'MSFT',\n",
    "#     'ROKU',\n",
    "    'NVDA',\n",
    "#     'CFLT',\n",
    "    'CROX',\n",
    "#     'BMBL',\n",
    "#     'FLYW',\n",
    "#     'GSK',\n",
    "    'ADBE',\n",
    "    'BX',\n",
    "    'BLK',\n",
    "    'GS',\n",
    "    'TWTR',\n",
    "    'PYPL',\n",
    "    'ETSY',\n",
    "#     'DOCU',\n",
    "    'TEAM',\n",
    "    'SNAP',\n",
    "    'NKE',\n",
    "    'BABA',\n",
    "    'BIDU',\n",
    "    'QCOM',\n",
    "    'GPRO',\n",
    "    'KO'    \n",
    "]\n",
    "\n",
    "# Get list of stocks \n",
    "\n",
    "# Create combinations for which there's maximum return\n",
    "# Note more number of stocks in combination will have preference (Diversification)\n",
    "\n",
    "# Assign more portfolio percent to stocks which have greater return over month, 3 months, 6 months consistently\n",
    "\n",
    "string_formatted_ticker_list = \" \".join(stock_tickers)\n",
    "\n",
    "data = yf.download(string_formatted_ticker_list, start=\"2019-04-01\", end=\"2019-05-02\")\n"
   ]
  },
  {
   "cell_type": "code",
   "execution_count": 424,
   "id": "71d24c1b",
   "metadata": {},
   "outputs": [],
   "source": [
    "start = data['Close'].head(1)"
   ]
  },
  {
   "cell_type": "code",
   "execution_count": 425,
   "id": "9762d892",
   "metadata": {},
   "outputs": [],
   "source": [
    "end = data['Close'].tail(1)\n"
   ]
  },
  {
   "cell_type": "code",
   "execution_count": 426,
   "id": "41a86a99",
   "metadata": {},
   "outputs": [
    {
     "name": "stdout",
     "output_type": "stream",
     "text": [
      "                  ADBE         AMZN        BABA        BIDU         BLK  \\\n",
      "Date                                                                      \n",
      "2019-04-01  272.170013  1814.189941  180.889999  170.399994  438.390015   \n",
      "\n",
      "                   BX       CROX       ETSY       GOOGL  GPRO          GS  \\\n",
      "Date                                                                        \n",
      "2019-04-01  35.400002  26.809999  68.160004  1198.97998  6.56  196.740005   \n",
      "\n",
      "                   KO        MSFT        NKE        NVDA        PYPL  \\\n",
      "Date                                                                   \n",
      "2019-04-01  46.720001  119.019997  85.230003  182.279999  105.550003   \n",
      "\n",
      "                 QCOM   SNAP        TEAM       TWTR  \n",
      "Date                                                 \n",
      "2019-04-01  57.810001  11.36  113.870003  33.439999  \n",
      "                  ADBE        AMZN        BABA        BIDU         BLK  \\\n",
      "Date                                                                     \n",
      "2019-05-01  283.350006  1911.52002  189.309998  165.419998  479.130005   \n",
      "\n",
      "                   BX  CROX       ETSY        GOOGL  GPRO          GS     KO  \\\n",
      "Date                                                                           \n",
      "2019-05-01  39.849998  28.0  66.790001  1173.319946  5.86  204.729996  48.59   \n",
      "\n",
      "                  MSFT        NKE        NVDA        PYPL       QCOM  SNAP  \\\n",
      "Date                                                                         \n",
      "2019-05-01  127.879997  85.900002  180.470001  110.940002  86.370003  11.2   \n",
      "\n",
      "                  TEAM       TWTR  \n",
      "Date                               \n",
      "2019-05-01  108.589996  39.290001  \n"
     ]
    }
   ],
   "source": [
    "print(start)\n",
    "print(end)"
   ]
  },
  {
   "cell_type": "code",
   "execution_count": 427,
   "id": "2bc8dbec",
   "metadata": {},
   "outputs": [
    {
     "data": {
      "text/plain": [
       "1814.18994140625"
      ]
     },
     "execution_count": 427,
     "metadata": {},
     "output_type": "execute_result"
    }
   ],
   "source": [
    "start['AMZN'][0]"
   ]
  },
  {
   "cell_type": "code",
   "execution_count": 428,
   "id": "7a662618",
   "metadata": {},
   "outputs": [],
   "source": [
    "returns = []\n",
    "for i in start:\n",
    "    percent_return = ((end[i][0]-start[i][0])/float(start[i][0]))*100\n",
    "    returns.append(percent_return)\n"
   ]
  },
  {
   "cell_type": "code",
   "execution_count": 429,
   "id": "dd3f28af",
   "metadata": {},
   "outputs": [
    {
     "name": "stdout",
     "output_type": "stream",
     "text": [
      "['AMZN', 'GOOGL', 'MSFT', 'NVDA', 'CROX', 'ADBE', 'BX', 'BLK', 'GS', 'TWTR', 'PYPL', 'ETSY', 'TEAM', 'SNAP', 'NKE', 'BABA', 'BIDU', 'QCOM', 'GPRO', 'KO']\n",
      "[1, 2, 3, 4, 5, 6, 7, 8, 9, 10, 11, 12, 13, 14, 15, 16, 17, 18, 19, 20]\n"
     ]
    },
    {
     "data": {
      "text/plain": [
       "[4.107723894700737,\n",
       " 5.364933180566288,\n",
       " 4.654761566341822,\n",
       " -2.9225328086363316,\n",
       " 9.293092651082855,\n",
       " 12.570612306299056,\n",
       " 4.438644378077343,\n",
       " -2.009980447438892,\n",
       " -2.140155348520125,\n",
       " -10.670728892850255,\n",
       " 4.0611924424555434,\n",
       " 4.002566102365831,\n",
       " 7.4441277602470075,\n",
       " 0.7861059985407206,\n",
       " -0.9929765035741963,\n",
       " 5.106583831177514,\n",
       " 49.403218638368884,\n",
       " -1.408449403588351,\n",
       " -4.636872118499965,\n",
       " 17.4940267017412]"
      ]
     },
     "execution_count": 429,
     "metadata": {},
     "output_type": "execute_result"
    }
   ],
   "source": [
    "print(stock_tickers)\n",
    "print([i+1 for i in range(len(stock_tickers))])\n",
    "returns"
   ]
  },
  {
   "cell_type": "code",
   "execution_count": 430,
   "id": "93f25e53",
   "metadata": {},
   "outputs": [
    {
     "data": {
      "text/plain": [
       "5.197294696442834"
      ]
     },
     "execution_count": 430,
     "metadata": {},
     "output_type": "execute_result"
    }
   ],
   "source": [
    "np.mean(returns)"
   ]
  },
  {
   "cell_type": "code",
   "execution_count": 451,
   "id": "4ff54217",
   "metadata": {},
   "outputs": [
    {
     "name": "stdout",
     "output_type": "stream",
     "text": [
      "[*********************100%***********************]  20 of 20 completed\n",
      "3161.0\n",
      "3226.72998046875\n",
      "3223.820068359375\n",
      "3279.389892578125\n",
      "3299.300048828125\n",
      "3372.199951171875\n",
      "3379.389892578125\n",
      "3400.0\n",
      "3333.0\n",
      "3379.090087890625\n",
      "3399.43994140625\n",
      "3372.010009765625\n",
      "3334.68994140625\n",
      "3362.02001953125\n",
      "3309.0400390625\n",
      "3340.8798828125\n",
      "3409.0\n",
      "3417.429931640625\n",
      "3458.5\n",
      "3471.31005859375\n",
      "nan\n"
     ]
    }
   ],
   "source": [
    "'''\n",
    "Steps\n",
    "\n",
    "1. get returns for a selected frequency(Say week), for the portfolio\n",
    "2. drop stocks which have negative returns in prev frequecy(prev. week)\n",
    "3. Repeat\n",
    "\n",
    "'''\n",
    "\n",
    "def algo1(string_formatted_ticker_list, freq):\n",
    "    data = yf.download(string_formatted_ticker_list, start=\"2021-04-01\", end=\"2021-04-30\")\n",
    "#     print(data)\n",
    "    for index, row in data.iterrows():\n",
    "        print(row['Close']['AMZN'])\n",
    "#     start = data['Close'].head(1)\n",
    "#     end_freq = data['Close'].head(freq)\n",
    "# #     print(start)\n",
    "#     start_data = data.iloc[::freq, :]\n",
    "#     end_data = data.iloc[freq-1::freq, :]\n",
    "#     print(start_data)\n",
    "#     print(end_data)\n",
    "    \n",
    "    \n",
    "algo1(string_formatted_ticker_list, 5)\n",
    "    \n",
    "    \n",
    "    \n",
    "    "
   ]
  },
  {
   "cell_type": "code",
   "execution_count": null,
   "id": "900ca9f9",
   "metadata": {},
   "outputs": [],
   "source": []
  },
  {
   "cell_type": "code",
   "execution_count": null,
   "id": "1df14495",
   "metadata": {},
   "outputs": [],
   "source": []
  }
 ],
 "metadata": {
  "kernelspec": {
   "display_name": "Python 3",
   "language": "python",
   "name": "python3"
  },
  "language_info": {
   "codemirror_mode": {
    "name": "ipython",
    "version": 3
   },
   "file_extension": ".py",
   "mimetype": "text/x-python",
   "name": "python",
   "nbconvert_exporter": "python",
   "pygments_lexer": "ipython3",
   "version": "3.9.2"
  }
 },
 "nbformat": 4,
 "nbformat_minor": 5
}
