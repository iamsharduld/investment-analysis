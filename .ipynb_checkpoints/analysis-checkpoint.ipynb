{
 "cells": [
  {
   "cell_type": "code",
   "execution_count": 423,
   "id": "150b7800",
   "metadata": {},
   "outputs": [
    {
     "name": "stdout",
     "output_type": "stream",
     "text": [
      "[*********************100%***********************]  20 of 20 completed\n"
     ]
    }
   ],
   "source": [
    "import yfinance as yf\n",
    "import numpy as np\n",
    "\n",
    "# These stocks are expected to move up\n",
    "# This step is completed using fundamental analysis\n",
    "\n",
    "stock_tickers = [\n",
    "    'AMZN',\n",
    "    'GOOGL',\n",
    "    'MSFT',\n",
    "#     'ROKU',\n",
    "    'NVDA',\n",
    "#     'CFLT',\n",
    "    'CROX',\n",
    "#     'BMBL',\n",
    "#     'FLYW',\n",
    "#     'GSK',\n",
    "    'ADBE',\n",
    "    'BX',\n",
    "    'BLK',\n",
    "    'GS',\n",
    "    'TWTR',\n",
    "    'PYPL',\n",
    "    'ETSY',\n",
    "#     'DOCU',\n",
    "    'TEAM',\n",
    "    'SNAP',\n",
    "    'NKE',\n",
    "    'BABA',\n",
    "    'BIDU',\n",
    "    'QCOM',\n",
    "    'GPRO',\n",
    "    'KO'    \n",
    "]\n",
    "\n",
    "# Get list of stocks \n",
    "\n",
    "# Create combinations for which there's maximum return\n",
    "# Note more number of stocks in combination will have preference (Diversification)\n",
    "\n",
    "# Assign more portfolio percent to stocks which have greater return over month, 3 months, 6 months consistently\n",
    "\n",
    "string_formatted_ticker_list = \" \".join(stock_tickers)\n",
    "\n",
    "data = yf.download(string_formatted_ticker_list, start=\"2019-04-01\", end=\"2019-05-02\")\n"
   ]
  },
  {
   "cell_type": "code",
   "execution_count": 424,
   "id": "3ef6dbf8",
   "metadata": {},
   "outputs": [],
   "source": [
    "start = data['Close'].head(1)"
   ]
  },
  {
   "cell_type": "code",
   "execution_count": 425,
   "id": "f2138749",
   "metadata": {},
   "outputs": [],
   "source": [
    "end = data['Close'].tail(1)\n"
   ]
  },
  {
   "cell_type": "code",
   "execution_count": 426,
   "id": "5e61bbd4",
   "metadata": {},
   "outputs": [
    {
     "name": "stdout",
     "output_type": "stream",
     "text": [
      "                  ADBE         AMZN        BABA        BIDU         BLK  \\\n",
      "Date                                                                      \n",
      "2019-04-01  272.170013  1814.189941  180.889999  170.399994  438.390015   \n",
      "\n",
      "                   BX       CROX       ETSY       GOOGL  GPRO          GS  \\\n",
      "Date                                                                        \n",
      "2019-04-01  35.400002  26.809999  68.160004  1198.97998  6.56  196.740005   \n",
      "\n",
      "                   KO        MSFT        NKE        NVDA        PYPL  \\\n",
      "Date                                                                   \n",
      "2019-04-01  46.720001  119.019997  85.230003  182.279999  105.550003   \n",
      "\n",
      "                 QCOM   SNAP        TEAM       TWTR  \n",
      "Date                                                 \n",
      "2019-04-01  57.810001  11.36  113.870003  33.439999  \n",
      "                  ADBE        AMZN        BABA        BIDU         BLK  \\\n",
      "Date                                                                     \n",
      "2019-05-01  283.350006  1911.52002  189.309998  165.419998  479.130005   \n",
      "\n",
      "                   BX  CROX       ETSY        GOOGL  GPRO          GS     KO  \\\n",
      "Date                                                                           \n",
      "2019-05-01  39.849998  28.0  66.790001  1173.319946  5.86  204.729996  48.59   \n",
      "\n",
      "                  MSFT        NKE        NVDA        PYPL       QCOM  SNAP  \\\n",
      "Date                                                                         \n",
      "2019-05-01  127.879997  85.900002  180.470001  110.940002  86.370003  11.2   \n",
      "\n",
      "                  TEAM       TWTR  \n",
      "Date                               \n",
      "2019-05-01  108.589996  39.290001  \n"
     ]
    }
   ],
   "source": [
    "print(start)\n",
    "print(end)"
   ]
  },
  {
   "cell_type": "code",
   "execution_count": 427,
   "id": "d7bd574b",
   "metadata": {},
   "outputs": [
    {
     "data": {
      "text/plain": [
       "1814.18994140625"
      ]
     },
     "execution_count": 427,
     "metadata": {},
     "output_type": "execute_result"
    }
   ],
   "source": [
    "start['AMZN'][0]"
   ]
  },
  {
   "cell_type": "code",
   "execution_count": 428,
   "id": "cbc598af",
   "metadata": {},
   "outputs": [],
   "source": [
    "returns = []\n",
    "for i in start:\n",
    "    percent_return = ((end[i][0]-start[i][0])/float(start[i][0]))*100\n",
    "    returns.append(percent_return)\n"
   ]
  },
  {
   "cell_type": "code",
   "execution_count": 429,
   "id": "232850da",
   "metadata": {},
   "outputs": [
    {
     "name": "stdout",
     "output_type": "stream",
     "text": [
      "['AMZN', 'GOOGL', 'MSFT', 'NVDA', 'CROX', 'ADBE', 'BX', 'BLK', 'GS', 'TWTR', 'PYPL', 'ETSY', 'TEAM', 'SNAP', 'NKE', 'BABA', 'BIDU', 'QCOM', 'GPRO', 'KO']\n",
      "[1, 2, 3, 4, 5, 6, 7, 8, 9, 10, 11, 12, 13, 14, 15, 16, 17, 18, 19, 20]\n"
     ]
    },
    {
     "data": {
      "text/plain": [
       "[4.107723894700737,\n",
       " 5.364933180566288,\n",
       " 4.654761566341822,\n",
       " -2.9225328086363316,\n",
       " 9.293092651082855,\n",
       " 12.570612306299056,\n",
       " 4.438644378077343,\n",
       " -2.009980447438892,\n",
       " -2.140155348520125,\n",
       " -10.670728892850255,\n",
       " 4.0611924424555434,\n",
       " 4.002566102365831,\n",
       " 7.4441277602470075,\n",
       " 0.7861059985407206,\n",
       " -0.9929765035741963,\n",
       " 5.106583831177514,\n",
       " 49.403218638368884,\n",
       " -1.408449403588351,\n",
       " -4.636872118499965,\n",
       " 17.4940267017412]"
      ]
     },
     "execution_count": 429,
     "metadata": {},
     "output_type": "execute_result"
    }
   ],
   "source": [
    "print(stock_tickers)\n",
    "print([i+1 for i in range(len(stock_tickers))])\n",
    "returns"
   ]
  },
  {
   "cell_type": "code",
   "execution_count": 430,
   "id": "a08f47d4",
   "metadata": {},
   "outputs": [
    {
     "data": {
      "text/plain": [
       "5.197294696442834"
      ]
     },
     "execution_count": 430,
     "metadata": {},
     "output_type": "execute_result"
    }
   ],
   "source": [
    "np.mean(returns)"
   ]
  },
  {
   "cell_type": "code",
   "execution_count": 445,
   "id": "151c8aa4",
   "metadata": {},
   "outputs": [
    {
     "name": "stdout",
     "output_type": "stream",
     "text": [
      "[*********************100%***********************]  20 of 20 completed\n",
      "             Adj Close                                                   \\\n",
      "                  ADBE         AMZN        BABA        BIDU         BLK   \n",
      "Date                                                                      \n",
      "2021-04-01  483.339996  3161.000000  224.360001  219.699997  763.261230   \n",
      "2021-04-09  504.040009  3372.199951  223.309998  219.669998  804.587952   \n",
      "2021-04-16  525.080017  3399.439941  238.690002  213.559998  807.673584   \n",
      "2021-04-23  515.840027  3340.879883  232.080002  220.940002  809.385559   \n",
      "2021-04-30         NaN          NaN         NaN         NaN         NaN   \n",
      "\n",
      "                                                                   ...  \\\n",
      "                   BX       CROX        ETSY        GOOGL    GPRO  ...   \n",
      "Date                                                               ...   \n",
      "2021-04-01  74.501114  79.559998  208.199997  2129.780029  12.385  ...   \n",
      "2021-04-09  76.195442  81.489998  218.570007  2270.669922  13.080  ...   \n",
      "2021-04-16  78.553635  79.040001  219.990005  2282.750000  11.370  ...   \n",
      "2021-04-23  86.420891  84.150002  214.589996  2299.929932  10.920  ...   \n",
      "2021-04-30        NaN        NaN         NaN          NaN     NaN  ...   \n",
      "\n",
      "               Volume                                                \\\n",
      "                   GS          KO        MSFT        NKE       NVDA   \n",
      "Date                                                                  \n",
      "2021-04-01  2659000.0  15834700.0  30338000.0  5720600.0  7706900.0   \n",
      "2021-04-09  2347100.0  10828200.0  24326800.0  6056800.0  4879300.0   \n",
      "2021-04-16  4231900.0  17974100.0  24878600.0  6852500.0  8380200.0   \n",
      "2021-04-23  2163800.0   9020500.0  21462600.0  7489000.0  5687500.0   \n",
      "2021-04-30        NaN         NaN         NaN        NaN        NaN   \n",
      "\n",
      "                                                                       \n",
      "                 PYPL        QCOM         SNAP       TEAM        TWTR  \n",
      "Date                                                                   \n",
      "2021-04-01  6990100.0  14069600.0   16155800.0  3244200.0  15261000.0  \n",
      "2021-04-09  6689700.0   6033200.0   17271000.0  1572500.0  15659500.0  \n",
      "2021-04-16  6061600.0   6583900.0   19777900.0   900800.0   9429900.0  \n",
      "2021-04-23  6297500.0   7666600.0  104499900.0   568100.0  12407700.0  \n",
      "2021-04-30        NaN         NaN          NaN        NaN         NaN  \n",
      "\n",
      "[5 rows x 120 columns]\n",
      "             Adj Close                                                   \\\n",
      "                  ADBE         AMZN        BABA        BIDU         BLK   \n",
      "Date                                                                      \n",
      "2021-04-08  499.839996  3299.300049  228.240005  226.770004  796.874023   \n",
      "2021-04-15  523.250000  3379.090088  239.089996  210.229996  814.033875   \n",
      "2021-04-22  507.290009  3309.040039  229.350006  214.559998  791.618652   \n",
      "2021-04-29  516.090027  3471.310059  234.179993  212.289993  823.469727   \n",
      "\n",
      "                                                                   ...  \\\n",
      "                   BX        CROX        ETSY        GOOGL   GPRO  ...   \n",
      "Date                                                               ...   \n",
      "2021-04-08  76.046814   81.080002  215.389999  2250.429932  12.57  ...   \n",
      "2021-04-15  78.920250   78.400002  219.289993  2285.250000  11.39  ...   \n",
      "2021-04-22  82.199921   81.250000  210.279999  2252.520020  10.84  ...   \n",
      "2021-04-29  88.680000  101.860001  208.800003  2392.760010  11.47  ...   \n",
      "\n",
      "               Volume                                                 \\\n",
      "                   GS          KO        MSFT        NKE        NVDA   \n",
      "Date                                                                   \n",
      "2021-04-08  2402800.0   9695600.0  23625200.0  8748400.0   6110400.0   \n",
      "2021-04-15  4354800.0  13078100.0  25627500.0  6284800.0  14962000.0   \n",
      "2021-04-22  2165200.0  12558900.0  25606200.0  6442900.0   6944700.0   \n",
      "2021-04-29  2584400.0  15391000.0  40589000.0  6612500.0   4329900.0   \n",
      "\n",
      "                                                                      \n",
      "                 PYPL        QCOM        SNAP       TEAM        TWTR  \n",
      "Date                                                                  \n",
      "2021-04-08  9059100.0   7304900.0  28898700.0  2409900.0  16843400.0  \n",
      "2021-04-15  7542800.0  11733200.0  15303300.0  1149800.0  11108300.0  \n",
      "2021-04-22  5983200.0   8345100.0  30856600.0   881400.0  16804100.0  \n",
      "2021-04-29  5663700.0  20502100.0  37436600.0  1414800.0  31017700.0  \n",
      "\n",
      "[4 rows x 120 columns]\n"
     ]
    }
   ],
   "source": [
    "'''\n",
    "Steps\n",
    "\n",
    "1. get returns for a selected frequency(Say week), for the portfolio\n",
    "2. drop stocks which have negative returns in prev frequecy(prev. week)\n",
    "3. Repeat\n",
    "\n",
    "'''\n",
    "\n",
    "def algo1(string_formatted_ticker_list, freq):\n",
    "    data = yf.download(string_formatted_ticker_list, start=\"2021-04-01\", end=\"2021-04-30\")\n",
    "#     print(data)\n",
    "    start = data['Close'].head(1)\n",
    "    end_freq = data['Close'].head(freq)\n",
    "#     print(start)\n",
    "    start_data = data.iloc[::freq, :]\n",
    "    end_data = data.iloc[freq-1::freq, :]\n",
    "    print(start_data)\n",
    "    print(end_data)\n",
    "    \n",
    "    \n",
    "algo1(string_formatted_ticker_list, 5)\n",
    "    \n",
    "    \n",
    "    \n",
    "    "
   ]
  },
  {
   "cell_type": "code",
   "execution_count": null,
   "id": "3b00dfc6",
   "metadata": {},
   "outputs": [],
   "source": []
  },
  {
   "cell_type": "code",
   "execution_count": null,
   "id": "70401507",
   "metadata": {},
   "outputs": [],
   "source": []
  }
 ],
 "metadata": {
  "kernelspec": {
   "display_name": "Python 3",
   "language": "python",
   "name": "python3"
  },
  "language_info": {
   "codemirror_mode": {
    "name": "ipython",
    "version": 3
   },
   "file_extension": ".py",
   "mimetype": "text/x-python",
   "name": "python",
   "nbconvert_exporter": "python",
   "pygments_lexer": "ipython3",
   "version": "3.9.2"
  }
 },
 "nbformat": 4,
 "nbformat_minor": 5
}
