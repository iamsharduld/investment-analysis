{
 "cells": [
  {
   "cell_type": "code",
   "execution_count": 36,
   "id": "555c9a21",
   "metadata": {},
   "outputs": [
    {
     "name": "stdout",
     "output_type": "stream",
     "text": [
      "[*********************100%***********************]  1 of 1 completed\n"
     ]
    }
   ],
   "source": [
    "import yfinance as yf\n",
    "import numpy as np\n",
    "\n",
    "# These stocks are expected to move up\n",
    "# This step is completed using fundamental analysis\n",
    "\n",
    "stock_tickers = [\n",
    "    'BABA'\n",
    "]\n",
    "\n",
    "# Get list of stocks \n",
    "\n",
    "# Create combinations for which there's maximum return\n",
    "# Note more number of stocks in combination will have preference (Diversification)\n",
    "\n",
    "# Assign more portfolio percent to stocks which have greater return over month, 3 months, 6 months consistently\n",
    "\n",
    "string_formatted_ticker_list = \" \".join(stock_tickers)\n",
    "\n",
    "data = yf.download(string_formatted_ticker_list, start=\"2021-03-01\", end=\"2021-06-30\")\n",
    "# data"
   ]
  },
  {
   "cell_type": "code",
   "execution_count": 37,
   "id": "86d1989a",
   "metadata": {},
   "outputs": [],
   "source": [
    "closing_prices = data['Close'].to_numpy()\n",
    "open_prices = data['Open'].to_numpy()\n",
    "dates = data.index.to_numpy()"
   ]
  },
  {
   "cell_type": "code",
   "execution_count": 38,
   "id": "4a74d8c1",
   "metadata": {},
   "outputs": [],
   "source": [
    "# dates"
   ]
  },
  {
   "cell_type": "code",
   "execution_count": 39,
   "id": "40117d3b",
   "metadata": {},
   "outputs": [],
   "source": [
    "# open_prices"
   ]
  },
  {
   "cell_type": "code",
   "execution_count": 40,
   "id": "f335200e",
   "metadata": {},
   "outputs": [
    {
     "data": {
      "text/plain": [
       "241.69000244140625"
      ]
     },
     "execution_count": 40,
     "metadata": {},
     "output_type": "execute_result"
    }
   ],
   "source": [
    "closing_prices[0]"
   ]
  },
  {
   "cell_type": "code",
   "execution_count": 41,
   "id": "6072ba17",
   "metadata": {},
   "outputs": [
    {
     "name": "stdout",
     "output_type": "stream",
     "text": [
      "SMA 5\n",
      "SMA 10\n"
     ]
    }
   ],
   "source": [
    "closing_prices = data['Close'].to_numpy()\n",
    "open_prices = data['Open'].to_numpy()\n",
    "dates = data.index.to_numpy()\n",
    "\n",
    "\n",
    "\n",
    "def sma(closing_prices, window):\n",
    "    print(f'SMA {window}')\n",
    "    sma = []\n",
    "    for i in range(window, len(closing_prices)):\n",
    "#         print(closing_prices[i-window:i])\n",
    "        sma.append(np.mean(closing_prices[i-window:i]))\n",
    "    sma = np.around(sma, decimals=2)\n",
    "    return sma\n",
    "\n",
    "avg1 = 5\n",
    "avg2 = 10\n",
    "sma5 = sma(closing_prices, avg1)[avg1:]\n",
    "sma10 = sma(closing_prices, avg2)\n",
    "open_prices = np.around(open_prices[avg2-1:], decimals=2)\n",
    "closing_prices = np.around(closing_prices[avg2-1:], decimals=2)\n",
    "dates = dates[avg2-1:]\n",
    "\n",
    "# print(sma5)\n",
    "# print(sma10)\n",
    "# print(closing_prices)\n",
    "# print(open_prices)\n",
    "# print(dates)"
   ]
  },
  {
   "cell_type": "code",
   "execution_count": 42,
   "id": "bda868e0",
   "metadata": {
    "scrolled": true
   },
   "outputs": [
    {
     "name": "stdout",
     "output_type": "stream",
     "text": [
      "2021-03-15T00:00:00.000000000 234.36 234.86 235.08 233.72 230.28 228.41\n",
      "BUY 230.28\n",
      "2021-03-16T00:00:00.000000000 232.84 232.97 226.93 228.07\n",
      "SELL 226.93\n",
      "2021-03-23T00:00:00.000000000 234.72 234.9 236.87 234.85 237.67 237.3\n",
      "BUY 237.67\n",
      "2021-03-26T00:00:00.000000000 230.87 232.11 227.26 222.0\n",
      "SELL 227.26\n",
      "2021-04-12T00:00:00.000000000 226.57 227.23 230.31 228.91 244.01 237.89\n",
      "BUY 244.01\n",
      "2021-04-21T00:00:00.000000000 234.38 234.86 229.44 229.33\n",
      "SELL 229.44\n",
      "2021-04-29T00:00:00.000000000 233.35 233.87 234.32 233.37 234.18 237.79\n",
      "BUY 234.18\n",
      "2021-05-05T00:00:00.000000000 230.1 231.73 226.78 228.0\n",
      "SELL 226.78\n",
      "2021-05-25T00:00:00.000000000 212.95 213.27 212.43 212.24 211.13 212.83\n",
      "BUY 211.13\n",
      "2021-05-27T00:00:00.000000000 211.43 212.1 212.74 214.17\n",
      "SELL 212.74\n",
      "2021-06-01T00:00:00.000000000 212.01 212.54 213.82 213.38 219.48 223.02\n",
      "BUY 219.48\n",
      "2021-06-10T00:00:00.000000000 215.63 216.09 213.07 213.5\n",
      "SELL 213.07\n",
      "2021-06-23T00:00:00.000000000 211.12 211.76 212.23 211.92 214.86 214.19\n",
      "BUY 214.86\n",
      "9973.2\n",
      "1\n"
     ]
    }
   ],
   "source": [
    "pro = 0\n",
    "flag = 0\n",
    "shares = 0\n",
    "init = 10000\n",
    "\n",
    "for i in range(1, len(sma10)):\n",
    "#     print(sma5[i], sma10[i], closing_prices[i], open_prices[i])\n",
    "    if sma5[i-1] < sma10[i-1] and sma5[i] > sma10[i]:\n",
    "        print(dates[i], sma5[i-1], sma10[i-1], sma5[i], sma10[i], closing_prices[i], open_prices[i])\n",
    "        print(\"BUY\", closing_prices[i])\n",
    "        init -= closing_prices[i]\n",
    "        shares += 1\n",
    "    elif sma5[i-1] > sma10[i-1] and sma5[i] < sma10[i]:\n",
    "        if(shares >= 1):\n",
    "            print(dates[i], sma5[i], sma10[i], closing_prices[i], open_prices[i])\n",
    "            print(\"SELL\", closing_prices[i])\n",
    "            init += closing_prices[i]\n",
    "            shares -= 1\n",
    "\n",
    "print(init+closing_prices[i]*shares)\n",
    "print(shares)"
   ]
  },
  {
   "cell_type": "code",
   "execution_count": null,
   "id": "ada12e88",
   "metadata": {},
   "outputs": [],
   "source": []
  },
  {
   "cell_type": "code",
   "execution_count": null,
   "id": "848eb681",
   "metadata": {},
   "outputs": [],
   "source": []
  },
  {
   "cell_type": "code",
   "execution_count": null,
   "id": "5961d592",
   "metadata": {},
   "outputs": [],
   "source": []
  }
 ],
 "metadata": {
  "kernelspec": {
   "display_name": "Python 3",
   "language": "python",
   "name": "python3"
  },
  "language_info": {
   "codemirror_mode": {
    "name": "ipython",
    "version": 3
   },
   "file_extension": ".py",
   "mimetype": "text/x-python",
   "name": "python",
   "nbconvert_exporter": "python",
   "pygments_lexer": "ipython3",
   "version": "3.9.2"
  }
 },
 "nbformat": 4,
 "nbformat_minor": 5
}
