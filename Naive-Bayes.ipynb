{
 "cells": [
  {
   "cell_type": "code",
   "execution_count": null,
   "id": "130f83d5",
   "metadata": {},
   "outputs": [
    {
     "name": "stderr",
     "output_type": "stream",
     "text": [
      "Exception in thread Thread-6:\n",
      "Traceback (most recent call last):\n",
      "  File \"c:\\users\\iamsh\\appdata\\local\\programs\\python\\python39\\lib\\threading.py\", line 954, in _bootstrap_inner\n",
      "    self.run()\n",
      "  File \"c:\\users\\iamsh\\appdata\\local\\programs\\python\\python39\\lib\\threading.py\", line 892, in run\n",
      "    self._target(*self._args, **self._kwargs)\n",
      "  File \"c:\\users\\iamsh\\appdata\\local\\programs\\python\\python39\\lib\\site-packages\\multitasking\\__init__.py\", line 102, in _run_via_pool\n",
      "    return callee(*args, **kwargs)\n",
      "  File \"c:\\users\\iamsh\\appdata\\local\\programs\\python\\python39\\lib\\site-packages\\yfinance\\multi.py\", line 167, in _download_one_threaded\n",
      "    data = _download_one(ticker, start, end, auto_adjust, back_adjust,\n",
      "  File \"c:\\users\\iamsh\\appdata\\local\\programs\\python\\python39\\lib\\site-packages\\yfinance\\multi.py\", line 179, in _download_one\n",
      "    return Ticker(ticker).history(period=period, interval=interval,\n",
      "  File \"c:\\users\\iamsh\\appdata\\local\\programs\\python\\python39\\lib\\site-packages\\yfinance\\base.py\", line 157, in history\n",
      "    data = data.json()\n",
      "  File \"c:\\users\\iamsh\\appdata\\local\\programs\\python\\python39\\lib\\site-packages\\requests\\models.py\", line 900, in json\n",
      "    return complexjson.loads(self.text, **kwargs)\n",
      "  File \"c:\\users\\iamsh\\appdata\\local\\programs\\python\\python39\\lib\\json\\__init__.py\", line 346, in loads\n",
      "    return _default_decoder.decode(s)\n",
      "  File \"c:\\users\\iamsh\\appdata\\local\\programs\\python\\python39\\lib\\json\\decoder.py\", line 337, in decode\n",
      "    obj, end = self.raw_decode(s, idx=_w(s, 0).end())\n",
      "  File \"c:\\users\\iamsh\\appdata\\local\\programs\\python\\python39\\lib\\json\\decoder.py\", line 355, in raw_decode\n",
      "    raise JSONDecodeError(\"Expecting value\", s, err.value) from None\n",
      "json.decoder.JSONDecodeError: Expecting value: line 1 column 1 (char 0)\n"
     ]
    }
   ],
   "source": [
    "import datetime\n",
    "import time\n",
    "from collections import defaultdict\n",
    "import pandas as pd\n",
    "from time import mktime\n",
    "\n",
    "import yfinance as yf\n",
    "import numpy as np\n",
    "import matplotlib.pyplot as plt\n",
    "from matplotlib.pyplot import figure\n",
    "import numpy\n",
    "\n",
    "stock_tickers = [\n",
    "    'AMZN',\n",
    "    'GOOGL',\n",
    "    'MSFT',\n",
    "    'ROKU',\n",
    "    'NVDA',\n",
    "    'CROX'\n",
    "]\n",
    "\n",
    "string_formatted_ticker_list = \" \".join(stock_tickers)\n",
    "\n",
    "data = yf.download(['CROX'], start=\"2021-01-01\", end=\"2021-07-05\")\n",
    "data\n",
    "\n"
   ]
  },
  {
   "cell_type": "code",
   "execution_count": 65,
   "id": "147f4062",
   "metadata": {},
   "outputs": [],
   "source": [
    "data['diff'] = data['Adj Close'] - data['Open']"
   ]
  },
  {
   "cell_type": "code",
   "execution_count": 66,
   "id": "5651bfd2",
   "metadata": {},
   "outputs": [
    {
     "data": {
      "text/html": [
       "<div>\n",
       "<style scoped>\n",
       "    .dataframe tbody tr th:only-of-type {\n",
       "        vertical-align: middle;\n",
       "    }\n",
       "\n",
       "    .dataframe tbody tr th {\n",
       "        vertical-align: top;\n",
       "    }\n",
       "\n",
       "    .dataframe thead th {\n",
       "        text-align: right;\n",
       "    }\n",
       "</style>\n",
       "<table border=\"1\" class=\"dataframe\">\n",
       "  <thead>\n",
       "    <tr style=\"text-align: right;\">\n",
       "      <th></th>\n",
       "      <th>Open</th>\n",
       "      <th>High</th>\n",
       "      <th>Low</th>\n",
       "      <th>Close</th>\n",
       "      <th>Adj Close</th>\n",
       "      <th>Volume</th>\n",
       "      <th>diff</th>\n",
       "    </tr>\n",
       "    <tr>\n",
       "      <th>Date</th>\n",
       "      <th></th>\n",
       "      <th></th>\n",
       "      <th></th>\n",
       "      <th></th>\n",
       "      <th></th>\n",
       "      <th></th>\n",
       "      <th></th>\n",
       "    </tr>\n",
       "  </thead>\n",
       "  <tbody>\n",
       "    <tr>\n",
       "      <th>2021-01-04</th>\n",
       "      <td>63.150002</td>\n",
       "      <td>63.349998</td>\n",
       "      <td>60.669998</td>\n",
       "      <td>61.560001</td>\n",
       "      <td>61.560001</td>\n",
       "      <td>1347200</td>\n",
       "      <td>-1.590000</td>\n",
       "    </tr>\n",
       "    <tr>\n",
       "      <th>2021-01-05</th>\n",
       "      <td>61.180000</td>\n",
       "      <td>64.860001</td>\n",
       "      <td>61.180000</td>\n",
       "      <td>64.209999</td>\n",
       "      <td>64.209999</td>\n",
       "      <td>917500</td>\n",
       "      <td>3.029999</td>\n",
       "    </tr>\n",
       "    <tr>\n",
       "      <th>2021-01-06</th>\n",
       "      <td>64.820000</td>\n",
       "      <td>67.839996</td>\n",
       "      <td>63.389999</td>\n",
       "      <td>67.620003</td>\n",
       "      <td>67.620003</td>\n",
       "      <td>1280800</td>\n",
       "      <td>2.800003</td>\n",
       "    </tr>\n",
       "    <tr>\n",
       "      <th>2021-01-07</th>\n",
       "      <td>68.489998</td>\n",
       "      <td>70.410004</td>\n",
       "      <td>66.750000</td>\n",
       "      <td>67.180000</td>\n",
       "      <td>67.180000</td>\n",
       "      <td>965700</td>\n",
       "      <td>-1.309998</td>\n",
       "    </tr>\n",
       "    <tr>\n",
       "      <th>2021-01-08</th>\n",
       "      <td>67.800003</td>\n",
       "      <td>68.580002</td>\n",
       "      <td>65.949997</td>\n",
       "      <td>66.779999</td>\n",
       "      <td>66.779999</td>\n",
       "      <td>995100</td>\n",
       "      <td>-1.020004</td>\n",
       "    </tr>\n",
       "    <tr>\n",
       "      <th>...</th>\n",
       "      <td>...</td>\n",
       "      <td>...</td>\n",
       "      <td>...</td>\n",
       "      <td>...</td>\n",
       "      <td>...</td>\n",
       "      <td>...</td>\n",
       "      <td>...</td>\n",
       "    </tr>\n",
       "    <tr>\n",
       "      <th>2021-06-28</th>\n",
       "      <td>114.779999</td>\n",
       "      <td>117.309998</td>\n",
       "      <td>114.300003</td>\n",
       "      <td>116.059998</td>\n",
       "      <td>116.059998</td>\n",
       "      <td>877200</td>\n",
       "      <td>1.279999</td>\n",
       "    </tr>\n",
       "    <tr>\n",
       "      <th>2021-06-29</th>\n",
       "      <td>116.489998</td>\n",
       "      <td>117.980003</td>\n",
       "      <td>114.870003</td>\n",
       "      <td>115.650002</td>\n",
       "      <td>115.650002</td>\n",
       "      <td>859200</td>\n",
       "      <td>-0.839996</td>\n",
       "    </tr>\n",
       "    <tr>\n",
       "      <th>2021-06-30</th>\n",
       "      <td>115.529999</td>\n",
       "      <td>116.849998</td>\n",
       "      <td>114.739998</td>\n",
       "      <td>116.519997</td>\n",
       "      <td>116.519997</td>\n",
       "      <td>853100</td>\n",
       "      <td>0.989998</td>\n",
       "    </tr>\n",
       "    <tr>\n",
       "      <th>2021-07-01</th>\n",
       "      <td>116.750000</td>\n",
       "      <td>118.680000</td>\n",
       "      <td>116.019997</td>\n",
       "      <td>117.000000</td>\n",
       "      <td>117.000000</td>\n",
       "      <td>1295800</td>\n",
       "      <td>0.250000</td>\n",
       "    </tr>\n",
       "    <tr>\n",
       "      <th>2021-07-02</th>\n",
       "      <td>117.489998</td>\n",
       "      <td>118.059998</td>\n",
       "      <td>116.089996</td>\n",
       "      <td>116.800003</td>\n",
       "      <td>116.800003</td>\n",
       "      <td>596000</td>\n",
       "      <td>-0.689995</td>\n",
       "    </tr>\n",
       "  </tbody>\n",
       "</table>\n",
       "<p>126 rows × 7 columns</p>\n",
       "</div>"
      ],
      "text/plain": [
       "                  Open        High         Low       Close   Adj Close  \\\n",
       "Date                                                                     \n",
       "2021-01-04   63.150002   63.349998   60.669998   61.560001   61.560001   \n",
       "2021-01-05   61.180000   64.860001   61.180000   64.209999   64.209999   \n",
       "2021-01-06   64.820000   67.839996   63.389999   67.620003   67.620003   \n",
       "2021-01-07   68.489998   70.410004   66.750000   67.180000   67.180000   \n",
       "2021-01-08   67.800003   68.580002   65.949997   66.779999   66.779999   \n",
       "...                ...         ...         ...         ...         ...   \n",
       "2021-06-28  114.779999  117.309998  114.300003  116.059998  116.059998   \n",
       "2021-06-29  116.489998  117.980003  114.870003  115.650002  115.650002   \n",
       "2021-06-30  115.529999  116.849998  114.739998  116.519997  116.519997   \n",
       "2021-07-01  116.750000  118.680000  116.019997  117.000000  117.000000   \n",
       "2021-07-02  117.489998  118.059998  116.089996  116.800003  116.800003   \n",
       "\n",
       "             Volume      diff  \n",
       "Date                           \n",
       "2021-01-04  1347200 -1.590000  \n",
       "2021-01-05   917500  3.029999  \n",
       "2021-01-06  1280800  2.800003  \n",
       "2021-01-07   965700 -1.309998  \n",
       "2021-01-08   995100 -1.020004  \n",
       "...             ...       ...  \n",
       "2021-06-28   877200  1.279999  \n",
       "2021-06-29   859200 -0.839996  \n",
       "2021-06-30   853100  0.989998  \n",
       "2021-07-01  1295800  0.250000  \n",
       "2021-07-02   596000 -0.689995  \n",
       "\n",
       "[126 rows x 7 columns]"
      ]
     },
     "execution_count": 66,
     "metadata": {},
     "output_type": "execute_result"
    }
   ],
   "source": [
    "data"
   ]
  },
  {
   "cell_type": "code",
   "execution_count": 67,
   "id": "55996672",
   "metadata": {},
   "outputs": [],
   "source": [
    "green = sum(data['diff'] > 0)\n",
    "red = sum(data['diff'] < 0)"
   ]
  },
  {
   "cell_type": "code",
   "execution_count": 68,
   "id": "70406d08",
   "metadata": {},
   "outputs": [
    {
     "data": {
      "text/plain": [
       "64"
      ]
     },
     "execution_count": 68,
     "metadata": {},
     "output_type": "execute_result"
    }
   ],
   "source": [
    "green"
   ]
  },
  {
   "cell_type": "code",
   "execution_count": 69,
   "id": "7de0700a",
   "metadata": {},
   "outputs": [
    {
     "data": {
      "text/plain": [
       "62"
      ]
     },
     "execution_count": 69,
     "metadata": {},
     "output_type": "execute_result"
    }
   ],
   "source": [
    "red"
   ]
  },
  {
   "cell_type": "code",
   "execution_count": 70,
   "id": "4e1d4334",
   "metadata": {},
   "outputs": [
    {
     "name": "stdout",
     "output_type": "stream",
     "text": [
      "3.029998779296875 -1.5900001525878906\n",
      "2.8000030517578125 3.029998779296875\n",
      "-1.30999755859375 2.8000030517578125\n",
      "-1.0200042724609375 -1.30999755859375\n",
      "1.3700027465820312 -1.0200042724609375\n",
      "2.0999984741210938 1.3700027465820312\n",
      "-1.6200027465820312 2.0999984741210938\n",
      "-1.2599945068359375 -1.6200027465820312\n",
      "-0.8199996948242188 -1.2599945068359375\n",
      "0.20999908447265625 -0.8199996948242188\n",
      "-0.6500015258789062 0.20999908447265625\n",
      "-3.0200042724609375 -0.6500015258789062\n",
      "-0.14000701904296875 -3.0200042724609375\n",
      "0.7300033569335938 -0.14000701904296875\n",
      "-2.3199996948242188 0.7300033569335938\n",
      "-4.629997253417969 -2.3199996948242188\n",
      "3.1399993896484375 -4.629997253417969\n",
      "-0.12000274658203125 3.1399993896484375\n",
      "1.7699966430664062 -0.12000274658203125\n",
      "1.7399978637695312 1.7699966430664062\n",
      "-0.9599990844726562 1.7399978637695312\n",
      "-0.26000213623046875 -0.9599990844726562\n",
      "-0.20000457763671875 -0.26000213623046875\n",
      "0.8499984741210938 -0.20000457763671875\n",
      "2.399993896484375 0.8499984741210938\n",
      "-2.6299972534179688 2.399993896484375\n",
      "0.12000274658203125 -2.6299972534179688\n",
      "2.4899978637695312 0.12000274658203125\n",
      "-1.220001220703125 2.4899978637695312\n",
      "-0.7900009155273438 -1.220001220703125\n",
      "0.37000274658203125 -0.7900009155273438\n",
      "1.3199996948242188 0.37000274658203125\n",
      "0.8199996948242188 1.3199996948242188\n",
      "1.970001220703125 0.8199996948242188\n",
      "-3.0100021362304688 1.970001220703125\n",
      "-1.5500030517578125 -3.0100021362304688\n",
      "0.720001220703125 -1.5500030517578125\n",
      "1.9899978637695312 0.720001220703125\n",
      "-2.1200027465820312 1.9899978637695312\n",
      "-1.8600006103515625 -2.1200027465820312\n",
      "-1.649993896484375 -1.8600006103515625\n",
      "-1.0499954223632812 -1.649993896484375\n",
      "0.029998779296875 -1.0499954223632812\n",
      "0.12000274658203125 0.029998779296875\n",
      "-0.30999755859375 0.12000274658203125\n",
      "3.8199996948242188 -0.30999755859375\n",
      "0.31999969482421875 3.8199996948242188\n",
      "2.8000030517578125 0.31999969482421875\n",
      "-3.19000244140625 2.8000030517578125\n",
      "0.40000152587890625 -3.19000244140625\n",
      "-2.6999969482421875 0.40000152587890625\n",
      "-0.4199981689453125 -2.6999969482421875\n",
      "1.1500015258789062 -0.4199981689453125\n",
      "-3.5500030517578125 1.1500015258789062\n",
      "-4.1699981689453125 -3.5500030517578125\n",
      "5.739997863769531 -4.1699981689453125\n",
      "2.0500030517578125 5.739997863769531\n",
      "-5.430000305175781 2.0500030517578125\n",
      "2.9200057983398438 -5.430000305175781\n",
      "2.8899993896484375 2.9200057983398438\n",
      "-1.5400009155273438 2.8899993896484375\n",
      "-0.9499969482421875 -1.5400009155273438\n",
      "0.279998779296875 -0.9499969482421875\n",
      "-0.4199981689453125 0.279998779296875\n",
      "-1.2399978637695312 -0.4199981689453125\n",
      "0.779998779296875 -1.2399978637695312\n",
      "0.40999603271484375 0.779998779296875\n",
      "-3.5699996948242188 0.40999603271484375\n",
      "1.2099990844726562 -3.5699996948242188\n",
      "-2.3499984741210938 1.2099990844726562\n",
      "-0.5800018310546875 -2.3499984741210938\n",
      "-0.8800048828125 -0.5800018310546875\n",
      "-2.9800033569335938 -0.8800048828125\n",
      "3.1200027465820312 -2.9800033569335938\n",
      "3.1500015258789062 3.1200027465820312\n",
      "2.3199996948242188 3.1500015258789062\n",
      "-0.0500030517578125 2.3199996948242188\n",
      "3.1200027465820312 -0.0500030517578125\n",
      "-0.529998779296875 3.1200027465820312\n",
      "2.220001220703125 -0.529998779296875\n",
      "-0.6199951171875 2.220001220703125\n",
      "-3.1200027465820312 -0.6199951171875\n",
      "6.019996643066406 -3.1200027465820312\n",
      "1.660003662109375 6.019996643066406\n",
      "0.2299957275390625 1.660003662109375\n",
      "3.1199951171875 0.2299957275390625\n",
      "-4.269996643066406 3.1199951171875\n",
      "2.4599990844726562 -4.269996643066406\n",
      "-3.19000244140625 2.4599990844726562\n",
      "1.30999755859375 -3.19000244140625\n",
      "1.25 1.30999755859375\n",
      "1.9799957275390625 1.25\n",
      "-3.4899978637695312 1.9799957275390625\n",
      "-0.9300003051757812 -3.4899978637695312\n",
      "-1.0800018310546875 -0.9300003051757812\n",
      "-0.970001220703125 -1.0800018310546875\n",
      "2.8199996948242188 -0.970001220703125\n",
      "1.4300003051757812 2.8199996948242188\n",
      "3.6800003051757812 1.4300003051757812\n",
      "-1.0800018310546875 3.6800003051757812\n",
      "-0.7600021362304688 -1.0800018310546875\n",
      "3.1800003051757812 -0.7600021362304688\n",
      "-3.4200057983398438 3.1800003051757812\n",
      "1.5800018310546875 -3.4200057983398438\n",
      "0.7899932861328125 1.5800018310546875\n",
      "1.5100021362304688 0.7899932861328125\n",
      "0.5200042724609375 1.5100021362304688\n",
      "0.1100006103515625 0.5200042724609375\n",
      "-0.7900009155273438 0.1100006103515625\n",
      "2.839996337890625 -0.7900009155273438\n",
      "2.8199996948242188 2.839996337890625\n",
      "-1.9000015258789062 2.8199996948242188\n",
      "-0.5 -1.9000015258789062\n",
      "-1.75 -0.5\n",
      "-2.0400009155273438 -1.75\n",
      "1.5400009155273438 -2.0400009155273438\n",
      "2.69000244140625 1.5400009155273438\n",
      "-0.15000152587890625 2.69000244140625\n",
      "0.7900009155273438 -0.15000152587890625\n",
      "-0.25 0.7900009155273438\n",
      "1.279998779296875 -0.25\n",
      "-0.839996337890625 1.279998779296875\n",
      "0.9899978637695312 -0.839996337890625\n",
      "0.25 0.9899978637695312\n",
      "-0.6899948120117188 0.25\n",
      "31\n",
      "33\n",
      "28\n",
      "33\n"
     ]
    }
   ],
   "source": [
    "red_green = 0\n",
    "green_red = 0\n",
    "green_green = 0\n",
    "red_red = 0\n",
    "prev = 0\n",
    "for index, row in data.iterrows():\n",
    "    if prev == 0:\n",
    "        prev = row['diff']\n",
    "        continue\n",
    "    print(row['diff'], prev)\n",
    "    if row['diff'] > 0 and prev > 0:\n",
    "        green_green += 1\n",
    "    if row['diff'] < 0 and prev > 0:\n",
    "        green_red += 1\n",
    "    if row['diff'] < 0 and prev < 0:\n",
    "        red_red += 1\n",
    "    if row['diff'] > 0 and prev < 0:\n",
    "        red_green += 1\n",
    "    prev = row['diff']\n",
    "    \n",
    "\n",
    "print(green_green)\n",
    "print(green_red)\n",
    "print(red_red)\n",
    "print(red_green)\n"
   ]
  },
  {
   "cell_type": "code",
   "execution_count": 71,
   "id": "620cc13b",
   "metadata": {},
   "outputs": [
    {
     "data": {
      "text/plain": [
       "0.515625"
      ]
     },
     "execution_count": 71,
     "metadata": {},
     "output_type": "execute_result"
    }
   ],
   "source": [
    "prob_green_after_red = (red_green)/(float(red_green) + float(green_green))\n",
    "prob_green_after_red"
   ]
  },
  {
   "cell_type": "code",
   "execution_count": 72,
   "id": "3e8c904c",
   "metadata": {},
   "outputs": [
    {
     "data": {
      "text/plain": [
       "0.484375"
      ]
     },
     "execution_count": 72,
     "metadata": {},
     "output_type": "execute_result"
    }
   ],
   "source": [
    "prob_green_after_green = (green_green)/(float(red_green) + float(green_green))\n",
    "prob_green_after_green"
   ]
  },
  {
   "cell_type": "code",
   "execution_count": 73,
   "id": "8fc56f1b",
   "metadata": {},
   "outputs": [
    {
     "data": {
      "text/plain": [
       "0.5409836065573771"
      ]
     },
     "execution_count": 73,
     "metadata": {},
     "output_type": "execute_result"
    }
   ],
   "source": [
    "prob_red_after_green = (green_red)/(float(red_red) + float(green_red))\n",
    "prob_red_after_green"
   ]
  },
  {
   "cell_type": "code",
   "execution_count": 74,
   "id": "43739182",
   "metadata": {},
   "outputs": [
    {
     "data": {
      "text/plain": [
       "0.45901639344262296"
      ]
     },
     "execution_count": 74,
     "metadata": {},
     "output_type": "execute_result"
    }
   ],
   "source": [
    "prob_red_after_red = (red_red)/(float(red_red) + float(green_red))\n",
    "prob_red_after_red"
   ]
  },
  {
   "cell_type": "code",
   "execution_count": null,
   "id": "5249cca4",
   "metadata": {},
   "outputs": [],
   "source": []
  },
  {
   "cell_type": "code",
   "execution_count": null,
   "id": "1adb388d",
   "metadata": {},
   "outputs": [],
   "source": [
    "# Result\n",
    "# It's almost 50% for all combinations so we don't have any insight"
   ]
  }
 ],
 "metadata": {
  "kernelspec": {
   "display_name": "Python 3",
   "language": "python",
   "name": "python3"
  },
  "language_info": {
   "codemirror_mode": {
    "name": "ipython",
    "version": 3
   },
   "file_extension": ".py",
   "mimetype": "text/x-python",
   "name": "python",
   "nbconvert_exporter": "python",
   "pygments_lexer": "ipython3",
   "version": "3.9.2"
  }
 },
 "nbformat": 4,
 "nbformat_minor": 5
}
